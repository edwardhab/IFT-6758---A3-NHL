{
 "cells": [
  {
   "cell_type": "code",
   "execution_count": null,
   "metadata": {},
   "outputs": [],
   "source": [
    "from importnb import Notebook\n",
    "with Notebook():\n",
    "    import Acquisition_Traitement_Donnees  # Now Step1 is treated like a Python module\n",
    "df=Acquisition_Traitement_Donnees.df"
   ]
  },
  {
   "cell_type": "code",
   "execution_count": null,
   "metadata": {},
   "outputs": [],
   "source": [
    "import pandas as pd\n",
    "# Ajout d'une colonne goal egale a 1 si goal 0 sinon\n",
    "df['goal']=df['result'].apply(lambda x: 1 if x=='goal' else 0 )\n",
    "df"
   ]
  },
  {
   "cell_type": "code",
   "execution_count": null,
   "metadata": {},
   "outputs": [],
   "source": [
    "import matplotlib.pyplot as plt\n",
    "import numpy as np\n",
    "import seaborn as sns\n",
    "def shottype(df,saison):\n",
    "    df=df[df['season']==saison].copy()\n",
    "    #Rassemble le nombre total de tir par type dans un dictionnaire\n",
    "    df=df.groupby('shotType').agg(total_shots=('shotType','count'),goals=('goal',lambda x: (x==1).sum())).reset_index()\n",
    "    s=str(saison)\n",
    "    s=  s[:4] + '-' + s[4:]\n",
    "    fig,ax = plt.subplots(figsize =(12, 8))\n",
    "    # Position des bars sur l'axe X\n",
    "    barWidth=0.3\n",
    "    bar =  np.arange(len(df.index))\n",
    "    bar2 = [x + barWidth for x in bar]\n",
    "    colors = sns.color_palette(\"muted\")\n",
    "    df = df.sort_values(by='total_shots', ascending=False)\n",
    "    # Creation des bars\n",
    "    #total shots\n",
    "    ax.bar(bar, df['total_shots'],color =colors[1], width = 0.25, \n",
    "            edgecolor ='grey', label ='Goals') \n",
    "    #goals\n",
    "    ax.bar(bar2, df['goals'],color =colors[0], width = 0.25, \n",
    "            edgecolor ='grey', label ='Total shot')  \n",
    "\n",
    "    # Labels\n",
    "    plt.xlabel('Shot type', fontweight ='bold', fontsize = 15) \n",
    "    ax.set_ylabel('Number of shots ', fontweight ='bold', fontsize = 15) \n",
    "    #position des ticks et labels \n",
    "    plt.xticks([r+barWidth/2 for r in range(len(df.index))],df['shotType'].unique() )\n",
    "    plt.title(f\"Nombre de tirs et de buts par type de tir {s}\",fontweight ='bold', fontsize = 15)\n",
    "    plt.legend()\n",
    "    plt.show() \n",
    "shottype(df,20182019)    "
   ]
  },
  {
   "cell_type": "code",
   "execution_count": null,
   "metadata": {},
   "outputs": [],
   "source": [
    "import matplotlib.pyplot as plt\n",
    "import numpy as np\n",
    "import seaborn as sns    \n",
    "\n",
    "def stackedshottype(df, saison):\n",
    "    df = df[df['season'] == saison].copy()\n",
    "    df = df.groupby('shotType').agg(total_shots=('shotType', 'count'), goals=('goal', lambda x: (x == 1).sum())).reset_index()\n",
    "    df['pourcentage_but'] = (df['goals'] / df['total_shots']) * 100\n",
    "    s = str(saison)\n",
    "    s = s[:4] + '-' + s[4:]\n",
    "    df = df.sort_values(by='total_shots', ascending=False)\n",
    "\n",
    "    # Creation de la figure\n",
    "    fig, ax = plt.subplots(2, figsize=(12, 12))  # Increase height for better separation of subplots\n",
    "\n",
    "    # Position des bars sur l'axe X\n",
    "    br1 = np.arange(7)  # First 7 values for the first subplot\n",
    "    br2 = np.arange(4)  # Remaining 4 values for the second subplot\n",
    "    colors = sns.color_palette(\"muted\")  \n",
    "\n",
    "    # First subplot: Plot for first 7 shot types\n",
    "    ax[0].bar(br1, df.goals.head(7), color=colors[0], width=0.5, edgecolor='grey', label='Goals')\n",
    "    ax[0].bar(br1, (df.total_shots - df.goals).head(7), bottom=df.goals.head(7), color=colors[1], width=0.5, \n",
    "              edgecolor='grey', label='Total Shots')\n",
    "\n",
    "    # Annotate first 7 bars with percentages\n",
    "    for i,(goals,pct) in enumerate(zip(df.goals.head(7).values,df.pourcentage_but.head(7).values)):\n",
    "        ax[0].annotate(f'{pct:.2f}%', (i, goals), xytext=(0, 10), textcoords='offset points', ha='center', va='top')\n",
    "\n",
    "    # Second subplot: Plot for last 4 shot types\n",
    "    ax[1].bar(br2, df.goals.tail(4), color=colors[0], width=0.5, edgecolor='grey', label='Goals')\n",
    "    ax[1].bar(br2, (df.total_shots - df.goals).tail(4), bottom=df.goals.tail(4), color=colors[1], width=0.5, \n",
    "              edgecolor='grey', label='Total Shots')\n",
    "\n",
    "    # Annotate last 4 bars with percentages  \n",
    "    for i,(goals,pct) in enumerate(zip(df.goals.tail(4).values,df.pourcentage_but.tail(4).values)):\n",
    "             ax[1].annotate(f'{pct:.2f}%', (i, goals), xytext=(0, 10), textcoords='offset points', ha='center', va='top')\n",
    "\n",
    "    # Add labels and customize axes\n",
    "    for ax_ in ax:\n",
    "        ax_.set_ylabel('Number of shots ', fontweight='bold', fontsize=15)\n",
    "    # Set xticks and title for both subplots\n",
    "    ax[0].set_xticks(br1)\n",
    "    ax[0].set_xticklabels(df.shotType.head(7).unique())\n",
    "    ax[1].set_xticks(br2)\n",
    "    ax[1].set_xticklabels(df.shotType.tail(4).unique())\n",
    "\n",
    "    # Add titles and legends\n",
    "    fig.suptitle(f\"Nombre de tirs et de goals et pourcentage {s}\", fontweight='bold', fontsize=15)\n",
    "    ax[0].legend(loc='upper center')\n",
    "    ax[1].legend(loc='upper center')\n",
    "    \n",
    "    plt.tight_layout()\n",
    "    plt.show()\n",
    "\n",
    "stackedshottype(df, 20222023)\n"
   ]
  },
  {
   "cell_type": "markdown",
   "metadata": {},
   "source": [
    "Question 1a.\tQuelle est la relation entre la distance à laquelle un tir a été effectué et la chance qu'il s'agisse d'un but? Produisez un graphique pour chaque saison entre 2018-19 et 2020-21 pour répondre à cette question, et ajoutez-le à votre article de blog avec quelques phrases décrivant le graphique. Y a-t-il eu beaucoup de changements au cours des trois dernières saisons? Pourquoi est-ce que vous avez choisi ce type de graphique?\n"
   ]
  },
  {
   "cell_type": "code",
   "execution_count": null,
   "metadata": {},
   "outputs": [],
   "source": [
    "import numpy as np\n",
    "\"\"\"def goaldistance(x):\n",
    "    Retourne la distance euclidienne entre des coordonnees (x,y) et le but\n",
    "        On assume les coordonnées du goal sont (89,0) et (-89,0), et on assume que les tirs du côté droit de la patinoire vont vers le but droit et vice versa.\n",
    "    Args:\n",
    "        x (pd.Series): (x,y)\n",
    "\n",
    "    Returns:\n",
    "        _type_: float\n",
    "\n",
    "    if x[0] >= 0: #Verifie si le x est superieur a 0, base le tir sur ca \n",
    "        return np.linalg.norm(x - np.array([89, 0]))\n",
    "    else:\n",
    "        return np.linalg.norm(x - np.array([-89, 0]))\"\"\"\n",
    "#On sépare la colonne coordinates en 2 colonnes x et y \n",
    "df['coordinates'] = df['coordinates'].str.replace(r'\\s+', '', regex=True)  # Remove all whitespace\n",
    "df[['x','y']] = df['coordinates'].str.extract(r'\\(\\s*([^,]+)\\s*,\\s*([^)]+)\\s*\\)').apply(pd.to_numeric, errors='coerce')\n",
    "#On décide de drop les tirs derriere le but\n",
    "df.drop(df[(df['x'] < -89)].index, inplace=True)\n",
    "df.drop(df[(df['x'] >89)].index, inplace=True)\n",
    "df = df[df['x'].notna() & df['y'].notna()]\n",
    "#Il nya pas beaucoup de valeurs manquantes on decide de les drop\n",
    "\n",
    "#Calcul de la distance euclidienne avec x et y\n",
    "#df['distance'] = df[['x', 'y']].apply(lambda x: goaldistance(x.to_numpy()), axis=1)\n",
    "# Vectorized calculation \n",
    "right_side = df['x'] >= 0\n",
    "df['distance'] = np.where(\n",
    "    right_side,\n",
    "    np.sqrt((df['x'] - 89)**2 + (df['y'] - 0)**2),\n",
    "    np.sqrt((df['x'] + 89)**2 + (df['y'] - 0)**2)\n",
    ")"
   ]
  },
  {
   "cell_type": "markdown",
   "metadata": {},
   "source": [
    "Choix du graphe : Line Plot"
   ]
  },
  {
   "cell_type": "code",
   "execution_count": null,
   "metadata": {},
   "outputs": [],
   "source": [
    "import matplotlib.pyplot as plt\n",
    "import numpy as np\n",
    "import seaborn as sns\n",
    "import pandas as pd\n",
    "bins=np.arange(0,110,10)\n",
    "df['distance_bins'] = pd.cut(df['distance'], bins=bins,include_lowest=True,right=True)\n",
    "goal_ratio = df.groupby(['season', 'distance_bins'])['goal'].mean().reset_index()\n",
    "fig,ax = plt.subplots(figsize =(12, 8)) \n",
    "colors = sns.color_palette(\"muted\")  \n",
    "#IL partage l'index X et les labels de distance\n",
    "xticks=goal_ratio[goal_ratio['season']==20182019]['goal'].index\n",
    "label_distance=goal_ratio[goal_ratio['season']==20182019]['distance_bins']\n",
    "ax.plot(xticks,goal_ratio[goal_ratio['season']==20182019]['goal'],color =colors[0], marker='o', linewidth=2, markersize=8, label='2018-2019') \n",
    "ax.plot(xticks,goal_ratio[goal_ratio['season']==20192020]['goal'],color =colors[1], marker='o', linewidth=2, markersize=8, label='2019-2020') \n",
    "ax.plot(xticks,goal_ratio[goal_ratio['season']==20202021]['goal'],color =colors[2], marker='o', linewidth=2, markersize=8, label='2020-2021') \n",
    "\n",
    "# Titre\n",
    "ax.set_title('Taux de Buts en Fonction de la Distance au But par Saison (2018-2021)',fontweight ='bold', fontsize = 15) \n",
    "#Labels \n",
    "plt.xlabel('Distance du but', fontweight ='bold', fontsize = 15) \n",
    "plt.ylabel('Goal ratio', fontweight ='bold', fontsize = 15) \n",
    "plt.xticks(xticks, label_distance )\n",
    "plt.legend()\n",
    "plt.show() \n",
    "df"
   ]
  },
  {
   "cell_type": "code",
   "execution_count": null,
   "metadata": {},
   "outputs": [],
   "source": [
    "import matplotlib.pyplot as plt\n",
    "import numpy as np\n",
    "import seaborn as sns\n",
    "import pandas as pd\n",
    "def distance_ratio(df,saison):\n",
    "    bins=np.arange(0,110,10)\n",
    "    df=df[df['season']==saison].copy()\n",
    "    s=str(saison)\n",
    "    s=  s[:4] + '-' + s[4:]\n",
    "    #On catégorise la distance en differents bins \n",
    "    df['distance_bins'] = pd.cut(df['distance'], bins=bins,include_lowest=True,right=True)\n",
    "    #Calcul du ratio\n",
    "    goal_ratio = df.groupby(['season', 'distance_bins'])['goal'].mean().reset_index()\n",
    "    fig,ax = plt.subplots(figsize =(12, 8)) \n",
    "    colors = sns.color_palette(\"muted\")  \n",
    "    #IL partage l'index X et les labels de distance\n",
    "    index_plot=goal_ratio.index\n",
    "    label_distance=goal_ratio['distance_bins']\n",
    "    ax.plot(index_plot,goal_ratio['goal'],color =colors[0], marker='o', linewidth=2, markersize=8, label=s)\n",
    "    # Ticks\n",
    "    ax.set_title(f'Taux de Buts en Fonction de la Distance au But par Saison ({s})',fontweight ='bold', fontsize = 15)  \n",
    "    plt.xlabel('Distance du but', fontweight ='bold', fontsize = 15) \n",
    "    plt.ylabel('Goal ratio', fontweight ='bold', fontsize = 15) \n",
    "    plt.xticks(index_plot, label_distance )\n",
    "    plt.legend()\n",
    "    plt.show() \n",
    "distance_ratio(df,20182019)"
   ]
  },
  {
   "cell_type": "code",
   "execution_count": null,
   "metadata": {},
   "outputs": [],
   "source": [
    "distance_ratio(df,20192020)"
   ]
  },
  {
   "cell_type": "code",
   "execution_count": null,
   "metadata": {},
   "outputs": [],
   "source": [
    "distance_ratio(df,20202021)"
   ]
  },
  {
   "cell_type": "markdown",
   "metadata": {},
   "source": [
    "Question 2.\tCombinez les informations des sections précédentes pour produire un graphique qui montre le pourcentage de buts (# buts / # tirs) en fonction à la fois de la distance par rapport au filet et de la catégorie de types de tirs (vous pouvez choisir une seule saison de votre choix). Discutez brièvement de vos conclusions. Par exemple, quels sont les types de tirs les plus dangereux?\n",
    "Choix du graphe : Heatmap"
   ]
  },
  {
   "cell_type": "code",
   "execution_count": null,
   "metadata": {},
   "outputs": [],
   "source": [
    "import seaborn as sns\n",
    "def distance_ratio_typetir(df,saison):\n",
    "    heat=df[df['season']==saison].copy()\n",
    "    s=str(saison)\n",
    "    s=  s[:4] + '-' + s[4:]\n",
    "    #Ratio des goals par rapport a la distance et au type de tir\n",
    "    heat=heat.groupby(['distance_bins','shotType'])['goal'].mean().reset_index()\n",
    "    #Pourcentage\n",
    "    heat['goal']=heat['goal']*100\n",
    "    #PIvot pour le heatmap\n",
    "    df_heat=heat.pivot_table(values='goal',index='shotType',columns='distance_bins')\n",
    "    df_heat.fillna(0,inplace=True)\n",
    "    fig,ax=plt.subplots(figsize=(10,8))\n",
    "    ax=sns.heatmap(df_heat,annot=True,linewidths=0.7,cmap='viridis',cbar_kws={'label': 'Taux de Probabilité de Marquer un But (%)'})\n",
    "    ax.set_title(f\"Pourcentage de Buts en Fonction de la Distance et des Types de Tirs ({(s)})\",fontweight ='bold', fontsize = 15,pad=40)\n",
    "    ax.set_xlabel(\"Distance du but\",fontweight ='bold', fontsize = 15)\n",
    "    ax.set_ylabel(\"Type de tir\",fontweight ='bold', fontsize = 15)\n",
    "distance_ratio_typetir(df,20222023)"
   ]
  },
  {
   "cell_type": "code",
   "execution_count": 11,
   "metadata": {},
   "outputs": [],
   "source": [
    "#df.to_csv(\"../complexe.csv\",index=False)"
   ]
  }
 ],
 "metadata": {
  "kernelspec": {
   "display_name": "Python 3",
   "language": "python",
   "name": "python3"
  },
  "language_info": {
   "codemirror_mode": {
    "name": "ipython",
    "version": 3
   },
   "file_extension": ".py",
   "mimetype": "text/x-python",
   "name": "python",
   "nbconvert_exporter": "python",
   "pygments_lexer": "ipython3",
   "version": "3.10.10"
  }
 },
 "nbformat": 4,
 "nbformat_minor": 2
}
