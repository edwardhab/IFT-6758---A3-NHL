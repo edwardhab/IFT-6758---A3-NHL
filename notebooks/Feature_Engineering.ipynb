{
 "cells": [
  {
   "cell_type": "code",
   "execution_count": 1,
   "metadata": {},
   "outputs": [
    {
     "name": "stderr",
     "output_type": "stream",
     "text": [
      "\n",
      "[notice] A new release of pip is available: 24.0 -> 24.3.1\n",
      "[notice] To update, run: python.exe -m pip install --upgrade pip\n"
     ]
    },
    {
     "name": "stdout",
     "output_type": "stream",
     "text": [
      "Requirement already satisfied: pandasgui in c:\\users\\edhab\\appdata\\local\\programs\\python\\python310\\lib\\site-packages (0.2.14)\n",
      "Requirement already satisfied: pandas in c:\\users\\edhab\\appdata\\local\\programs\\python\\python310\\lib\\site-packages (from pandasgui) (2.1.3)\n",
      "Requirement already satisfied: numpy in c:\\users\\edhab\\appdata\\local\\programs\\python\\python310\\lib\\site-packages (from pandasgui) (1.26.2)\n",
      "Requirement already satisfied: PyQt5 in c:\\users\\edhab\\appdata\\local\\programs\\python\\python310\\lib\\site-packages (from pandasgui) (5.15.11)\n",
      "Requirement already satisfied: PyQt5-sip in c:\\users\\edhab\\appdata\\local\\programs\\python\\python310\\lib\\site-packages (from pandasgui) (12.15.0)\n",
      "Requirement already satisfied: PyQtWebEngine in c:\\users\\edhab\\appdata\\local\\programs\\python\\python310\\lib\\site-packages (from pandasgui) (5.15.7)\n",
      "Requirement already satisfied: plotly in c:\\users\\edhab\\appdata\\local\\programs\\python\\python310\\lib\\site-packages (from pandasgui) (5.24.1)\n",
      "Requirement already satisfied: wordcloud in c:\\users\\edhab\\appdata\\local\\programs\\python\\python310\\lib\\site-packages (from pandasgui) (1.9.3)\n",
      "Requirement already satisfied: setuptools in c:\\users\\edhab\\appdata\\local\\programs\\python\\python310\\lib\\site-packages (from pandasgui) (69.0.2)\n",
      "Requirement already satisfied: appdirs in c:\\users\\edhab\\appdata\\local\\programs\\python\\python310\\lib\\site-packages (from pandasgui) (1.4.4)\n",
      "Requirement already satisfied: pynput in c:\\users\\edhab\\appdata\\local\\programs\\python\\python310\\lib\\site-packages (from pandasgui) (1.7.7)\n",
      "Requirement already satisfied: IPython in c:\\users\\edhab\\appdata\\local\\programs\\python\\python310\\lib\\site-packages (from pandasgui) (8.18.0)\n",
      "Requirement already satisfied: pyarrow in c:\\users\\edhab\\appdata\\local\\programs\\python\\python310\\lib\\site-packages (from pandasgui) (17.0.0)\n",
      "Requirement already satisfied: astor in c:\\users\\edhab\\appdata\\local\\programs\\python\\python310\\lib\\site-packages (from pandasgui) (0.8.1)\n",
      "Requirement already satisfied: typing-extensions in c:\\users\\edhab\\appdata\\local\\programs\\python\\python310\\lib\\site-packages (from pandasgui) (4.10.0)\n",
      "Requirement already satisfied: qtstylish>=0.1.2 in c:\\users\\edhab\\appdata\\local\\programs\\python\\python310\\lib\\site-packages (from pandasgui) (0.1.5)\n",
      "Requirement already satisfied: pywin32 in c:\\users\\edhab\\appdata\\local\\programs\\python\\python310\\lib\\site-packages (from pandasgui) (306)\n",
      "Requirement already satisfied: decorator in c:\\users\\edhab\\appdata\\local\\programs\\python\\python310\\lib\\site-packages (from IPython->pandasgui) (5.1.1)\n",
      "Requirement already satisfied: jedi>=0.16 in c:\\users\\edhab\\appdata\\local\\programs\\python\\python310\\lib\\site-packages (from IPython->pandasgui) (0.19.1)\n",
      "Requirement already satisfied: matplotlib-inline in c:\\users\\edhab\\appdata\\local\\programs\\python\\python310\\lib\\site-packages (from IPython->pandasgui) (0.1.6)\n",
      "Requirement already satisfied: prompt-toolkit!=3.0.37,<3.1.0,>=3.0.30 in c:\\users\\edhab\\appdata\\local\\programs\\python\\python310\\lib\\site-packages (from IPython->pandasgui) (3.0.41)\n",
      "Requirement already satisfied: pygments>=2.4.0 in c:\\users\\edhab\\appdata\\local\\programs\\python\\python310\\lib\\site-packages (from IPython->pandasgui) (2.17.2)\n",
      "Requirement already satisfied: stack-data in c:\\users\\edhab\\appdata\\local\\programs\\python\\python310\\lib\\site-packages (from IPython->pandasgui) (0.6.3)\n",
      "Requirement already satisfied: traitlets>=5 in c:\\users\\edhab\\appdata\\local\\programs\\python\\python310\\lib\\site-packages (from IPython->pandasgui) (5.13.0)\n",
      "Requirement already satisfied: exceptiongroup in c:\\users\\edhab\\appdata\\local\\programs\\python\\python310\\lib\\site-packages (from IPython->pandasgui) (1.1.3)\n",
      "Requirement already satisfied: colorama in c:\\users\\edhab\\appdata\\local\\programs\\python\\python310\\lib\\site-packages (from IPython->pandasgui) (0.4.6)\n",
      "Requirement already satisfied: python-dateutil>=2.8.2 in c:\\users\\edhab\\appdata\\local\\programs\\python\\python310\\lib\\site-packages (from pandas->pandasgui) (2.8.2)\n",
      "Requirement already satisfied: pytz>=2020.1 in c:\\users\\edhab\\appdata\\local\\programs\\python\\python310\\lib\\site-packages (from pandas->pandasgui) (2023.3.post1)\n",
      "Requirement already satisfied: tzdata>=2022.1 in c:\\users\\edhab\\appdata\\local\\programs\\python\\python310\\lib\\site-packages (from pandas->pandasgui) (2023.3)\n",
      "Requirement already satisfied: tenacity>=6.2.0 in c:\\users\\edhab\\appdata\\local\\programs\\python\\python310\\lib\\site-packages (from plotly->pandasgui) (9.0.0)\n",
      "Requirement already satisfied: packaging in c:\\users\\edhab\\appdata\\local\\programs\\python\\python310\\lib\\site-packages (from plotly->pandasgui) (23.2)\n",
      "Requirement already satisfied: six in c:\\users\\edhab\\appdata\\local\\programs\\python\\python310\\lib\\site-packages (from pynput->pandasgui) (1.16.0)\n",
      "Requirement already satisfied: PyQt5-Qt5<5.16.0,>=5.15.2 in c:\\users\\edhab\\appdata\\local\\programs\\python\\python310\\lib\\site-packages (from PyQt5->pandasgui) (5.15.2)\n",
      "Requirement already satisfied: PyQtWebEngine-Qt5<5.16.0,>=5.15.0 in c:\\users\\edhab\\appdata\\local\\programs\\python\\python310\\lib\\site-packages (from PyQtWebEngine->pandasgui) (5.15.2)\n",
      "Requirement already satisfied: pillow in c:\\users\\edhab\\appdata\\local\\programs\\python\\python310\\lib\\site-packages (from wordcloud->pandasgui) (10.1.0)\n",
      "Requirement already satisfied: matplotlib in c:\\users\\edhab\\appdata\\local\\programs\\python\\python310\\lib\\site-packages (from wordcloud->pandasgui) (3.8.2)\n",
      "Requirement already satisfied: parso<0.9.0,>=0.8.3 in c:\\users\\edhab\\appdata\\local\\programs\\python\\python310\\lib\\site-packages (from jedi>=0.16->IPython->pandasgui) (0.8.3)\n",
      "Requirement already satisfied: wcwidth in c:\\users\\edhab\\appdata\\local\\programs\\python\\python310\\lib\\site-packages (from prompt-toolkit!=3.0.37,<3.1.0,>=3.0.30->IPython->pandasgui) (0.2.12)\n",
      "Requirement already satisfied: contourpy>=1.0.1 in c:\\users\\edhab\\appdata\\local\\programs\\python\\python310\\lib\\site-packages (from matplotlib->wordcloud->pandasgui) (1.2.0)\n",
      "Requirement already satisfied: cycler>=0.10 in c:\\users\\edhab\\appdata\\local\\programs\\python\\python310\\lib\\site-packages (from matplotlib->wordcloud->pandasgui) (0.12.1)\n",
      "Requirement already satisfied: fonttools>=4.22.0 in c:\\users\\edhab\\appdata\\local\\programs\\python\\python310\\lib\\site-packages (from matplotlib->wordcloud->pandasgui) (4.45.1)\n",
      "Requirement already satisfied: kiwisolver>=1.3.1 in c:\\users\\edhab\\appdata\\local\\programs\\python\\python310\\lib\\site-packages (from matplotlib->wordcloud->pandasgui) (1.4.5)\n",
      "Requirement already satisfied: pyparsing>=2.3.1 in c:\\users\\edhab\\appdata\\local\\programs\\python\\python310\\lib\\site-packages (from matplotlib->wordcloud->pandasgui) (3.1.1)\n",
      "Requirement already satisfied: executing>=1.2.0 in c:\\users\\edhab\\appdata\\local\\programs\\python\\python310\\lib\\site-packages (from stack-data->IPython->pandasgui) (2.0.1)\n",
      "Requirement already satisfied: asttokens>=2.1.0 in c:\\users\\edhab\\appdata\\local\\programs\\python\\python310\\lib\\site-packages (from stack-data->IPython->pandasgui) (2.4.1)\n",
      "Requirement already satisfied: pure-eval in c:\\users\\edhab\\appdata\\local\\programs\\python\\python310\\lib\\site-packages (from stack-data->IPython->pandasgui) (0.2.2)\n",
      "Note: you may need to restart the kernel to use updated packages.\n"
     ]
    }
   ],
   "source": [
    "%pip install pandasgui\n",
    "from pandasgui import show\n",
    "import pandas as pd\n",
    "import os\n",
    "import sys"
   ]
  },
  {
   "cell_type": "code",
   "execution_count": 2,
   "metadata": {},
   "outputs": [
    {
     "name": "stderr",
     "output_type": "stream",
     "text": [
      "C:\\Users\\edhab\\AppData\\Local\\Temp\\ipykernel_37472\\3917034796.py:6: DtypeWarning: Columns (20) have mixed types. Specify dtype option on import or set low_memory=False.\n",
      "  df = pd.read_csv(module_path)\n",
      "PandasGUI INFO — pandasgui.gui — Opening PandasGUI\n"
     ]
    },
    {
     "name": "stdout",
     "output_type": "stream",
     "text": [
      "Displaying the shot data in pandasgui...\n"
     ]
    },
    {
     "name": "stderr",
     "output_type": "stream",
     "text": [
      "C:\\Users\\edhab\\AppData\\Local\\Temp\\ipykernel_37472\\3917034796.py:10: FutureWarning: Series.__getitem__ treating keys as positions is deprecated. In a future version, integer keys will always be treated as labels (consistent with DataFrame behavior). To access a value by position, use `ser.iloc[pos]`\n",
      "  show(df)\n",
      "C:\\Users\\edhab\\AppData\\Local\\Temp\\ipykernel_37472\\3917034796.py:10: FutureWarning: Series.__getitem__ treating keys as positions is deprecated. In a future version, integer keys will always be treated as labels (consistent with DataFrame behavior). To access a value by position, use `ser.iloc[pos]`\n",
      "  show(df)\n",
      "C:\\Users\\edhab\\AppData\\Local\\Temp\\ipykernel_37472\\3917034796.py:10: FutureWarning:\n",
      "\n",
      "Series.__getitem__ treating keys as positions is deprecated. In a future version, integer keys will always be treated as labels (consistent with DataFrame behavior). To access a value by position, use `ser.iloc[pos]`\n",
      "\n",
      "C:\\Users\\edhab\\AppData\\Local\\Temp\\ipykernel_37472\\3917034796.py:10: FutureWarning:\n",
      "\n",
      "Series.__getitem__ treating keys as positions is deprecated. In a future version, integer keys will always be treated as labels (consistent with DataFrame behavior). To access a value by position, use `ser.iloc[pos]`\n",
      "\n",
      "C:\\Users\\edhab\\AppData\\Local\\Temp\\ipykernel_37472\\3917034796.py:10: FutureWarning:\n",
      "\n",
      "Series.__getitem__ treating keys as positions is deprecated. In a future version, integer keys will always be treated as labels (consistent with DataFrame behavior). To access a value by position, use `ser.iloc[pos]`\n",
      "\n",
      "C:\\Users\\edhab\\AppData\\Local\\Temp\\ipykernel_37472\\3917034796.py:10: FutureWarning:\n",
      "\n",
      "Series.__getitem__ treating keys as positions is deprecated. In a future version, integer keys will always be treated as labels (consistent with DataFrame behavior). To access a value by position, use `ser.iloc[pos]`\n",
      "\n"
     ]
    }
   ],
   "source": [
    "module_path = os.path.abspath(os.path.join('..', 'data', 'enhanced_parsed_shot_events.csv'))\n",
    "\n",
    "if module_path not in sys.path:\n",
    "    sys.path.append(module_path)\n",
    "\n",
    "df = pd.read_csv(module_path)\n",
    "\n",
    "if not df.empty:\n",
    "    print(\"Displaying the shot data in pandasgui...\")\n",
    "    show(df)\n",
    "else:\n",
    "    print(\"No shot data available.\")"
   ]
  }
 ],
 "metadata": {
  "kernelspec": {
   "display_name": "Python 3",
   "language": "python",
   "name": "python3"
  },
  "language_info": {
   "codemirror_mode": {
    "name": "ipython",
    "version": 3
   },
   "file_extension": ".py",
   "mimetype": "text/x-python",
   "name": "python",
   "nbconvert_exporter": "python",
   "pygments_lexer": "ipython3",
   "version": "3.10.10"
  }
 },
 "nbformat": 4,
 "nbformat_minor": 2
}
