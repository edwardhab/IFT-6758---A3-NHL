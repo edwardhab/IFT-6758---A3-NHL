{
 "cells": [
  {
   "cell_type": "code",
   "execution_count": null,
   "metadata": {},
   "outputs": [],
   "source": [
    "%pip install pandasgui\n",
    "import pandasgui\n",
    "from pandasgui import show\n",
    "import sys\n",
    "import os\n"
   ]
  },
  {
   "cell_type": "code",
   "execution_count": 2,
   "metadata": {},
   "outputs": [],
   "source": [
    "module_path = os.path.abspath(os.path.join('..', 'src'))\n",
    "if module_path not in sys.path:\n",
    "    sys.path.append(module_path)\n",
    "\n",
    "import data_acquisisition"
   ]
  },
  {
   "cell_type": "code",
   "execution_count": 3,
   "metadata": {},
   "outputs": [],
   "source": [
    "data_directory = os.path.abspath(os.path.join('..', 'data'))\n",
    "downloader = data_acquisisition.NHLDataDownloader(start_season=2016, final_season=2023, data_dir=data_directory)"
   ]
  },
  {
   "cell_type": "code",
   "execution_count": null,
   "metadata": {},
   "outputs": [],
   "source": [
    "\n",
    "#Check if game file already exists\n",
    "if not os.path.exists(downloader.nhl_games_file_path):\n",
    "    print(\"Downloading game data...\")\n",
    "    downloader.get_nhl_game_data()\n",
    "else:\n",
    "    print(\"Game data file already exists. Skipping download.\")\n",
    "\n",
    "print(\"Parsing the NHL game data...\")\n",
    "df = downloader.parse_nhl_game_data()\n",
    "\n",
    "print(\"Saving player names...\")\n",
    "downloader.save_player_names()"
   ]
  },
  {
   "cell_type": "code",
   "execution_count": null,
   "metadata": {},
   "outputs": [],
   "source": [
    "df.head(n=10)"
   ]
  },
  {
   "cell_type": "code",
   "execution_count": null,
   "metadata": {},
   "outputs": [],
   "source": [
    "#Display dataframe with pandas GUI\n",
    "if not df.empty:\n",
    "    print(\"Displaying the shot data in pandasgui...\")\n",
    "    show(df)\n",
    "else:\n",
    "    print(\"No shot data available.\")"
   ]
  }
 ],
 "metadata": {
  "kernelspec": {
   "display_name": "Python 3",
   "language": "python",
   "name": "python3"
  },
  "language_info": {
   "codemirror_mode": {
    "name": "ipython",
    "version": 3
   },
   "file_extension": ".py",
   "mimetype": "text/x-python",
   "name": "python",
   "nbconvert_exporter": "python",
   "pygments_lexer": "ipython3",
   "version": "3.10.10"
  }
 },
 "nbformat": 4,
 "nbformat_minor": 2
}
