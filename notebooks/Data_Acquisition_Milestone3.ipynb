{
 "cells": [
  {
   "cell_type": "code",
   "execution_count": 1,
   "metadata": {},
   "outputs": [],
   "source": [
    "import pandas as pd\n",
    "import os\n",
    "\n",
    "module_path = os.path.abspath(os.path.join('..', 'data', 'enhanced_parsed_shot_events.csv'))\n",
    "parsed_module_path = os.path.abspath(os.path.join('..', 'data', 'milestone_3_data.csv'))\n",
    "df = pd.read_csv(module_path)\n",
    "\n",
    "columns_to_extract = [\n",
    "    'shotDistance',  # Distance to goal\n",
    "    'shotAngle',     # Angle to goal\n",
    "    'result',        # Is a goal (requires verification in context)\n",
    "    'emptyNetGoal'   # Empty net\n",
    "]\n",
    "\n",
    "\n",
    "filtered_df = df[columns_to_extract]\n",
    "filtered_df.to_csv(parsed_module_path, index=False)\n"
   ]
  }
 ],
 "metadata": {
  "kernelspec": {
   "display_name": "Python 3",
   "language": "python",
   "name": "python3"
  },
  "language_info": {
   "codemirror_mode": {
    "name": "ipython",
    "version": 3
   },
   "file_extension": ".py",
   "mimetype": "text/x-python",
   "name": "python",
   "nbconvert_exporter": "python",
   "pygments_lexer": "ipython3",
   "version": "3.10.10"
  }
 },
 "nbformat": 4,
 "nbformat_minor": 2
}
